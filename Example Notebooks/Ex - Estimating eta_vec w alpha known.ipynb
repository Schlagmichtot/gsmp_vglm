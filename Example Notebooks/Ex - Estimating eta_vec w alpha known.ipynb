{
 "cells": [
  {
   "cell_type": "markdown",
   "id": "757790fb-ee27-4e45-b733-b9dc17a62632",
   "metadata": {},
   "source": [
    "# Example - Estimating $\\mathbf{\\eta}$ when $\\alpha$ is known\n",
    "\n",
    "In this sample case, we simulate data from a GSMP-VGLM Distribution where $\\alpha$ is known.  We then apply the fit function and compare the estimated $\\hat{\\mathbf{\\eta}}$ to the true value, $\\mathbf{\\eta}$."
   ]
  },
  {
   "cell_type": "code",
   "execution_count": 1,
   "id": "134a39c4-093c-4f90-b553-a5295a1859f0",
   "metadata": {},
   "outputs": [],
   "source": [
    "# Import needed libraries\n",
    "from gsmp_vglm.data_generation import GSMP_GLMData\n",
    "from gsmp_vglm.grad_desc_sem_functions import GSMP_GLM\n",
    "import numpy as np\n",
    "import scipy\n",
    "import pandas as pd"
   ]
  },
  {
   "cell_type": "code",
   "execution_count": 2,
   "id": "37cbe1a8-cdb6-4b6c-9afb-39afc168aa5a",
   "metadata": {},
   "outputs": [
    {
     "name": "stdout",
     "output_type": "stream",
     "text": [
      "Generating data...\n"
     ]
    }
   ],
   "source": [
    "# Set parameters for the data generation process\n",
    "n_obs = 500\n",
    "n_cov = 2\n",
    "eta_vec = np.array([1.0, 0.5, -0.25])\n",
    "beta_vec = np.array([2.0, -2.0, 1.0])\n",
    "alpha = 0.1\n",
    "\n",
    "print(\"Generating data...\")\n",
    "# Generate synthetic data\n",
    "data_gen = GSMP_GLMData(\n",
    "    dist_type = 'uniform',\n",
    "    alpha = alpha,\n",
    "    n_obs=n_obs, \n",
    "    n_cov=n_cov, \n",
    "    add_intercept=True, \n",
    "    eta_vec=eta_vec, \n",
    "    beta_vec=beta_vec\n",
    ")\n",
    "\n",
    "# Resulting outputs\n",
    "X, Y, N, W, Z = data_gen.make_data()"
   ]
  },
  {
   "cell_type": "code",
   "execution_count": 3,
   "id": "d1f2cbff-a5ca-4452-8820-0bb315177526",
   "metadata": {},
   "outputs": [],
   "source": [
    "# Instantiate and fit the model\n",
    "gsmp_glm = GSMP_GLM()\n",
    "eta_est, _, _, _ = gsmp_glm.fit(X, N, W, \n",
    "                                       Z, alpha, learning_rate = 0.001, \n",
    "                                       num_iterations = 100, init_multiplier = 0.99999999999)"
   ]
  },
  {
   "cell_type": "code",
   "execution_count": 4,
   "id": "a8b443ce-9ff5-4d5f-9e9b-89c498feb9e2",
   "metadata": {},
   "outputs": [
    {
     "name": "stdout",
     "output_type": "stream",
     "text": [
      "The estimated eta vector is [1.17, 0.20, -0.21]; the true value of the eta vector is [ 1.    0.5  -0.25]\n"
     ]
    }
   ],
   "source": [
    "# Review the estimates\n",
    "print(f'The estimated eta vector is [{\", \".join([f\"{x:.2f}\" for x in eta_est])}]; the true value of the eta vector is {eta_vec}')"
   ]
  },
  {
   "cell_type": "code",
   "execution_count": null,
   "id": "37e4b5b3-abeb-4923-90a2-6526807564bd",
   "metadata": {},
   "outputs": [],
   "source": []
  }
 ],
 "metadata": {
  "kernelspec": {
   "display_name": "Python 3 (ipykernel)",
   "language": "python",
   "name": "python3"
  },
  "language_info": {
   "codemirror_mode": {
    "name": "ipython",
    "version": 3
   },
   "file_extension": ".py",
   "mimetype": "text/x-python",
   "name": "python",
   "nbconvert_exporter": "python",
   "pygments_lexer": "ipython3",
   "version": "3.12.10"
  }
 },
 "nbformat": 4,
 "nbformat_minor": 5
}
